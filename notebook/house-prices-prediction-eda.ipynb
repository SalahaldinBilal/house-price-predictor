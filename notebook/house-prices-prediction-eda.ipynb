{
 "cells": [
  {
   "cell_type": "code",
   "execution_count": 1,
   "metadata": {},
   "outputs": [],
   "source": [
    "import numpy as np\n",
    "import pandas as pd\n",
    "from sklearn.preprocessing import OneHotEncoder, OrdinalEncoder, PolynomialFeatures, Normalizer\n",
    "from sklearn.compose import make_column_transformer\n",
    "from sklearn.pipeline import make_pipeline\n",
    "from sklearn.linear_model import LinearRegression\n",
    "from sklearn.model_selection import KFold, RandomizedSearchCV\n",
    "from sklearn.ensemble import GradientBoostingRegressor, RandomForestRegressor\n",
    "from sklearn.neighbors import KNeighborsRegressor\n",
    "import matplotlib.pyplot as plt\n",
    "import seaborn as sns"
   ]
  },
  {
   "cell_type": "markdown",
   "metadata": {},
   "source": [
    "# Reading the data"
   ]
  },
  {
   "cell_type": "code",
   "execution_count": 2,
   "metadata": {},
   "outputs": [],
   "source": [
    "data = pd.read_csv(\"./train.csv\")"
   ]
  },
  {
   "cell_type": "code",
   "execution_count": 3,
   "metadata": {},
   "outputs": [
    {
     "data": {
      "text/html": [
       "<div>\n",
       "<style scoped>\n",
       "    .dataframe tbody tr th:only-of-type {\n",
       "        vertical-align: middle;\n",
       "    }\n",
       "\n",
       "    .dataframe tbody tr th {\n",
       "        vertical-align: top;\n",
       "    }\n",
       "\n",
       "    .dataframe thead th {\n",
       "        text-align: right;\n",
       "    }\n",
       "</style>\n",
       "<table border=\"1\" class=\"dataframe\">\n",
       "  <thead>\n",
       "    <tr style=\"text-align: right;\">\n",
       "      <th></th>\n",
       "      <th>Id</th>\n",
       "      <th>MSSubClass</th>\n",
       "      <th>MSZoning</th>\n",
       "      <th>LotFrontage</th>\n",
       "      <th>LotArea</th>\n",
       "      <th>Street</th>\n",
       "      <th>Alley</th>\n",
       "      <th>LotShape</th>\n",
       "      <th>LandContour</th>\n",
       "      <th>Utilities</th>\n",
       "      <th>...</th>\n",
       "      <th>PoolArea</th>\n",
       "      <th>PoolQC</th>\n",
       "      <th>Fence</th>\n",
       "      <th>MiscFeature</th>\n",
       "      <th>MiscVal</th>\n",
       "      <th>MoSold</th>\n",
       "      <th>YrSold</th>\n",
       "      <th>SaleType</th>\n",
       "      <th>SaleCondition</th>\n",
       "      <th>SalePrice</th>\n",
       "    </tr>\n",
       "  </thead>\n",
       "  <tbody>\n",
       "    <tr>\n",
       "      <th>0</th>\n",
       "      <td>1</td>\n",
       "      <td>60</td>\n",
       "      <td>RL</td>\n",
       "      <td>65.0</td>\n",
       "      <td>8450</td>\n",
       "      <td>Pave</td>\n",
       "      <td>NaN</td>\n",
       "      <td>Reg</td>\n",
       "      <td>Lvl</td>\n",
       "      <td>AllPub</td>\n",
       "      <td>...</td>\n",
       "      <td>0</td>\n",
       "      <td>NaN</td>\n",
       "      <td>NaN</td>\n",
       "      <td>NaN</td>\n",
       "      <td>0</td>\n",
       "      <td>2</td>\n",
       "      <td>2008</td>\n",
       "      <td>WD</td>\n",
       "      <td>Normal</td>\n",
       "      <td>208500</td>\n",
       "    </tr>\n",
       "    <tr>\n",
       "      <th>1</th>\n",
       "      <td>2</td>\n",
       "      <td>20</td>\n",
       "      <td>RL</td>\n",
       "      <td>80.0</td>\n",
       "      <td>9600</td>\n",
       "      <td>Pave</td>\n",
       "      <td>NaN</td>\n",
       "      <td>Reg</td>\n",
       "      <td>Lvl</td>\n",
       "      <td>AllPub</td>\n",
       "      <td>...</td>\n",
       "      <td>0</td>\n",
       "      <td>NaN</td>\n",
       "      <td>NaN</td>\n",
       "      <td>NaN</td>\n",
       "      <td>0</td>\n",
       "      <td>5</td>\n",
       "      <td>2007</td>\n",
       "      <td>WD</td>\n",
       "      <td>Normal</td>\n",
       "      <td>181500</td>\n",
       "    </tr>\n",
       "    <tr>\n",
       "      <th>2</th>\n",
       "      <td>3</td>\n",
       "      <td>60</td>\n",
       "      <td>RL</td>\n",
       "      <td>68.0</td>\n",
       "      <td>11250</td>\n",
       "      <td>Pave</td>\n",
       "      <td>NaN</td>\n",
       "      <td>IR1</td>\n",
       "      <td>Lvl</td>\n",
       "      <td>AllPub</td>\n",
       "      <td>...</td>\n",
       "      <td>0</td>\n",
       "      <td>NaN</td>\n",
       "      <td>NaN</td>\n",
       "      <td>NaN</td>\n",
       "      <td>0</td>\n",
       "      <td>9</td>\n",
       "      <td>2008</td>\n",
       "      <td>WD</td>\n",
       "      <td>Normal</td>\n",
       "      <td>223500</td>\n",
       "    </tr>\n",
       "    <tr>\n",
       "      <th>3</th>\n",
       "      <td>4</td>\n",
       "      <td>70</td>\n",
       "      <td>RL</td>\n",
       "      <td>60.0</td>\n",
       "      <td>9550</td>\n",
       "      <td>Pave</td>\n",
       "      <td>NaN</td>\n",
       "      <td>IR1</td>\n",
       "      <td>Lvl</td>\n",
       "      <td>AllPub</td>\n",
       "      <td>...</td>\n",
       "      <td>0</td>\n",
       "      <td>NaN</td>\n",
       "      <td>NaN</td>\n",
       "      <td>NaN</td>\n",
       "      <td>0</td>\n",
       "      <td>2</td>\n",
       "      <td>2006</td>\n",
       "      <td>WD</td>\n",
       "      <td>Abnorml</td>\n",
       "      <td>140000</td>\n",
       "    </tr>\n",
       "    <tr>\n",
       "      <th>4</th>\n",
       "      <td>5</td>\n",
       "      <td>60</td>\n",
       "      <td>RL</td>\n",
       "      <td>84.0</td>\n",
       "      <td>14260</td>\n",
       "      <td>Pave</td>\n",
       "      <td>NaN</td>\n",
       "      <td>IR1</td>\n",
       "      <td>Lvl</td>\n",
       "      <td>AllPub</td>\n",
       "      <td>...</td>\n",
       "      <td>0</td>\n",
       "      <td>NaN</td>\n",
       "      <td>NaN</td>\n",
       "      <td>NaN</td>\n",
       "      <td>0</td>\n",
       "      <td>12</td>\n",
       "      <td>2008</td>\n",
       "      <td>WD</td>\n",
       "      <td>Normal</td>\n",
       "      <td>250000</td>\n",
       "    </tr>\n",
       "  </tbody>\n",
       "</table>\n",
       "<p>5 rows × 81 columns</p>\n",
       "</div>"
      ],
      "text/plain": [
       "   Id  MSSubClass MSZoning  LotFrontage  LotArea Street Alley LotShape  \\\n",
       "0   1          60       RL         65.0     8450   Pave   NaN      Reg   \n",
       "1   2          20       RL         80.0     9600   Pave   NaN      Reg   \n",
       "2   3          60       RL         68.0    11250   Pave   NaN      IR1   \n",
       "3   4          70       RL         60.0     9550   Pave   NaN      IR1   \n",
       "4   5          60       RL         84.0    14260   Pave   NaN      IR1   \n",
       "\n",
       "  LandContour Utilities  ... PoolArea PoolQC Fence MiscFeature MiscVal MoSold  \\\n",
       "0         Lvl    AllPub  ...        0    NaN   NaN         NaN       0      2   \n",
       "1         Lvl    AllPub  ...        0    NaN   NaN         NaN       0      5   \n",
       "2         Lvl    AllPub  ...        0    NaN   NaN         NaN       0      9   \n",
       "3         Lvl    AllPub  ...        0    NaN   NaN         NaN       0      2   \n",
       "4         Lvl    AllPub  ...        0    NaN   NaN         NaN       0     12   \n",
       "\n",
       "  YrSold  SaleType  SaleCondition  SalePrice  \n",
       "0   2008        WD         Normal     208500  \n",
       "1   2007        WD         Normal     181500  \n",
       "2   2008        WD         Normal     223500  \n",
       "3   2006        WD        Abnorml     140000  \n",
       "4   2008        WD         Normal     250000  \n",
       "\n",
       "[5 rows x 81 columns]"
      ]
     },
     "execution_count": 3,
     "metadata": {},
     "output_type": "execute_result"
    }
   ],
   "source": [
    "data.head(5)"
   ]
  },
  {
   "cell_type": "markdown",
   "metadata": {},
   "source": [
    "# Data Analysis\n",
    "\n",
    "Checking for missing data and dropping 'Id' column since its just an index column"
   ]
  },
  {
   "cell_type": "code",
   "execution_count": 4,
   "metadata": {},
   "outputs": [],
   "source": [
    "data.drop(columns=[\"Id\"], inplace=True)"
   ]
  },
  {
   "cell_type": "code",
   "execution_count": 5,
   "metadata": {},
   "outputs": [],
   "source": [
    "def get_missing_percentages(df):\n",
    "  missing = df.isnull().sum() * 100 / len(df)\n",
    "  return missing[missing > 0].sort_values(ascending=False)"
   ]
  },
  {
   "cell_type": "code",
   "execution_count": 6,
   "metadata": {},
   "outputs": [],
   "source": [
    "missing_percentages = get_missing_percentages(data)"
   ]
  },
  {
   "cell_type": "code",
   "execution_count": 7,
   "metadata": {},
   "outputs": [
    {
     "data": {
      "text/plain": [
       "PoolQC         99.520548\n",
       "MiscFeature    96.301370\n",
       "Alley          93.767123\n",
       "Fence          80.753425\n",
       "FireplaceQu    47.260274\n",
       "LotFrontage    17.739726\n",
       "dtype: float64"
      ]
     },
     "execution_count": 7,
     "metadata": {},
     "output_type": "execute_result"
    }
   ],
   "source": [
    "missing_percentages[missing_percentages > 10]"
   ]
  },
  {
   "cell_type": "code",
   "execution_count": 8,
   "metadata": {},
   "outputs": [
    {
     "data": {
      "text/html": [
       "<div>\n",
       "<style scoped>\n",
       "    .dataframe tbody tr th:only-of-type {\n",
       "        vertical-align: middle;\n",
       "    }\n",
       "\n",
       "    .dataframe tbody tr th {\n",
       "        vertical-align: top;\n",
       "    }\n",
       "\n",
       "    .dataframe thead th {\n",
       "        text-align: right;\n",
       "    }\n",
       "</style>\n",
       "<table border=\"1\" class=\"dataframe\">\n",
       "  <thead>\n",
       "    <tr style=\"text-align: right;\">\n",
       "      <th></th>\n",
       "      <th>PoolQC</th>\n",
       "      <th>MiscFeature</th>\n",
       "      <th>Alley</th>\n",
       "      <th>Fence</th>\n",
       "      <th>FireplaceQu</th>\n",
       "      <th>LotFrontage</th>\n",
       "    </tr>\n",
       "  </thead>\n",
       "  <tbody>\n",
       "    <tr>\n",
       "      <th>0</th>\n",
       "      <td>NaN</td>\n",
       "      <td>NaN</td>\n",
       "      <td>NaN</td>\n",
       "      <td>NaN</td>\n",
       "      <td>NaN</td>\n",
       "      <td>65.0</td>\n",
       "    </tr>\n",
       "    <tr>\n",
       "      <th>1</th>\n",
       "      <td>NaN</td>\n",
       "      <td>NaN</td>\n",
       "      <td>NaN</td>\n",
       "      <td>NaN</td>\n",
       "      <td>TA</td>\n",
       "      <td>80.0</td>\n",
       "    </tr>\n",
       "    <tr>\n",
       "      <th>2</th>\n",
       "      <td>NaN</td>\n",
       "      <td>NaN</td>\n",
       "      <td>NaN</td>\n",
       "      <td>NaN</td>\n",
       "      <td>TA</td>\n",
       "      <td>68.0</td>\n",
       "    </tr>\n",
       "    <tr>\n",
       "      <th>3</th>\n",
       "      <td>NaN</td>\n",
       "      <td>NaN</td>\n",
       "      <td>NaN</td>\n",
       "      <td>NaN</td>\n",
       "      <td>Gd</td>\n",
       "      <td>60.0</td>\n",
       "    </tr>\n",
       "    <tr>\n",
       "      <th>4</th>\n",
       "      <td>NaN</td>\n",
       "      <td>NaN</td>\n",
       "      <td>NaN</td>\n",
       "      <td>NaN</td>\n",
       "      <td>TA</td>\n",
       "      <td>84.0</td>\n",
       "    </tr>\n",
       "    <tr>\n",
       "      <th>...</th>\n",
       "      <td>...</td>\n",
       "      <td>...</td>\n",
       "      <td>...</td>\n",
       "      <td>...</td>\n",
       "      <td>...</td>\n",
       "      <td>...</td>\n",
       "    </tr>\n",
       "    <tr>\n",
       "      <th>1455</th>\n",
       "      <td>NaN</td>\n",
       "      <td>NaN</td>\n",
       "      <td>NaN</td>\n",
       "      <td>NaN</td>\n",
       "      <td>TA</td>\n",
       "      <td>62.0</td>\n",
       "    </tr>\n",
       "    <tr>\n",
       "      <th>1456</th>\n",
       "      <td>NaN</td>\n",
       "      <td>NaN</td>\n",
       "      <td>NaN</td>\n",
       "      <td>MnPrv</td>\n",
       "      <td>TA</td>\n",
       "      <td>85.0</td>\n",
       "    </tr>\n",
       "    <tr>\n",
       "      <th>1457</th>\n",
       "      <td>NaN</td>\n",
       "      <td>Shed</td>\n",
       "      <td>NaN</td>\n",
       "      <td>GdPrv</td>\n",
       "      <td>Gd</td>\n",
       "      <td>66.0</td>\n",
       "    </tr>\n",
       "    <tr>\n",
       "      <th>1458</th>\n",
       "      <td>NaN</td>\n",
       "      <td>NaN</td>\n",
       "      <td>NaN</td>\n",
       "      <td>NaN</td>\n",
       "      <td>NaN</td>\n",
       "      <td>68.0</td>\n",
       "    </tr>\n",
       "    <tr>\n",
       "      <th>1459</th>\n",
       "      <td>NaN</td>\n",
       "      <td>NaN</td>\n",
       "      <td>NaN</td>\n",
       "      <td>NaN</td>\n",
       "      <td>NaN</td>\n",
       "      <td>75.0</td>\n",
       "    </tr>\n",
       "  </tbody>\n",
       "</table>\n",
       "<p>1460 rows × 6 columns</p>\n",
       "</div>"
      ],
      "text/plain": [
       "     PoolQC MiscFeature Alley  Fence FireplaceQu  LotFrontage\n",
       "0       NaN         NaN   NaN    NaN         NaN         65.0\n",
       "1       NaN         NaN   NaN    NaN          TA         80.0\n",
       "2       NaN         NaN   NaN    NaN          TA         68.0\n",
       "3       NaN         NaN   NaN    NaN          Gd         60.0\n",
       "4       NaN         NaN   NaN    NaN          TA         84.0\n",
       "...     ...         ...   ...    ...         ...          ...\n",
       "1455    NaN         NaN   NaN    NaN          TA         62.0\n",
       "1456    NaN         NaN   NaN  MnPrv          TA         85.0\n",
       "1457    NaN        Shed   NaN  GdPrv          Gd         66.0\n",
       "1458    NaN         NaN   NaN    NaN         NaN         68.0\n",
       "1459    NaN         NaN   NaN    NaN         NaN         75.0\n",
       "\n",
       "[1460 rows x 6 columns]"
      ]
     },
     "execution_count": 8,
     "metadata": {},
     "output_type": "execute_result"
    }
   ],
   "source": [
    "data[missing_percentages[missing_percentages > 10].index]"
   ]
  },
  {
   "cell_type": "markdown",
   "metadata": {},
   "source": [
    "After reading the feature descriptions for each feature here, we can see that all features but 'LotFrontage' includes NaN as an actual value that represents something, so instead of deleting them, we'll just fill them with some string so they don't count and missing values"
   ]
  },
  {
   "cell_type": "code",
   "execution_count": 9,
   "metadata": {},
   "outputs": [
    {
     "data": {
      "text/plain": [
       "Index(['PoolQC', 'MiscFeature', 'Alley', 'Fence', 'FireplaceQu'], dtype='object')"
      ]
     },
     "execution_count": 9,
     "metadata": {},
     "output_type": "execute_result"
    }
   ],
   "source": [
    "column_nan_has_value = missing_percentages[missing_percentages > 10].index[:-1]\n",
    "column_nan_has_value"
   ]
  },
  {
   "cell_type": "code",
   "execution_count": 10,
   "metadata": {},
   "outputs": [],
   "source": [
    "def fill_columns_with_nan_value(df):\n",
    "  return df[column_nan_has_value].fillna(\"None\")"
   ]
  },
  {
   "cell_type": "code",
   "execution_count": 11,
   "metadata": {},
   "outputs": [
    {
     "data": {
      "text/html": [
       "<div>\n",
       "<style scoped>\n",
       "    .dataframe tbody tr th:only-of-type {\n",
       "        vertical-align: middle;\n",
       "    }\n",
       "\n",
       "    .dataframe tbody tr th {\n",
       "        vertical-align: top;\n",
       "    }\n",
       "\n",
       "    .dataframe thead th {\n",
       "        text-align: right;\n",
       "    }\n",
       "</style>\n",
       "<table border=\"1\" class=\"dataframe\">\n",
       "  <thead>\n",
       "    <tr style=\"text-align: right;\">\n",
       "      <th></th>\n",
       "      <th>PoolQC</th>\n",
       "      <th>MiscFeature</th>\n",
       "      <th>Alley</th>\n",
       "      <th>Fence</th>\n",
       "      <th>FireplaceQu</th>\n",
       "    </tr>\n",
       "  </thead>\n",
       "  <tbody>\n",
       "    <tr>\n",
       "      <th>0</th>\n",
       "      <td>None</td>\n",
       "      <td>None</td>\n",
       "      <td>None</td>\n",
       "      <td>None</td>\n",
       "      <td>None</td>\n",
       "    </tr>\n",
       "    <tr>\n",
       "      <th>1</th>\n",
       "      <td>None</td>\n",
       "      <td>None</td>\n",
       "      <td>None</td>\n",
       "      <td>None</td>\n",
       "      <td>TA</td>\n",
       "    </tr>\n",
       "    <tr>\n",
       "      <th>2</th>\n",
       "      <td>None</td>\n",
       "      <td>None</td>\n",
       "      <td>None</td>\n",
       "      <td>None</td>\n",
       "      <td>TA</td>\n",
       "    </tr>\n",
       "    <tr>\n",
       "      <th>3</th>\n",
       "      <td>None</td>\n",
       "      <td>None</td>\n",
       "      <td>None</td>\n",
       "      <td>None</td>\n",
       "      <td>Gd</td>\n",
       "    </tr>\n",
       "    <tr>\n",
       "      <th>4</th>\n",
       "      <td>None</td>\n",
       "      <td>None</td>\n",
       "      <td>None</td>\n",
       "      <td>None</td>\n",
       "      <td>TA</td>\n",
       "    </tr>\n",
       "    <tr>\n",
       "      <th>...</th>\n",
       "      <td>...</td>\n",
       "      <td>...</td>\n",
       "      <td>...</td>\n",
       "      <td>...</td>\n",
       "      <td>...</td>\n",
       "    </tr>\n",
       "    <tr>\n",
       "      <th>1455</th>\n",
       "      <td>None</td>\n",
       "      <td>None</td>\n",
       "      <td>None</td>\n",
       "      <td>None</td>\n",
       "      <td>TA</td>\n",
       "    </tr>\n",
       "    <tr>\n",
       "      <th>1456</th>\n",
       "      <td>None</td>\n",
       "      <td>None</td>\n",
       "      <td>None</td>\n",
       "      <td>MnPrv</td>\n",
       "      <td>TA</td>\n",
       "    </tr>\n",
       "    <tr>\n",
       "      <th>1457</th>\n",
       "      <td>None</td>\n",
       "      <td>Shed</td>\n",
       "      <td>None</td>\n",
       "      <td>GdPrv</td>\n",
       "      <td>Gd</td>\n",
       "    </tr>\n",
       "    <tr>\n",
       "      <th>1458</th>\n",
       "      <td>None</td>\n",
       "      <td>None</td>\n",
       "      <td>None</td>\n",
       "      <td>None</td>\n",
       "      <td>None</td>\n",
       "    </tr>\n",
       "    <tr>\n",
       "      <th>1459</th>\n",
       "      <td>None</td>\n",
       "      <td>None</td>\n",
       "      <td>None</td>\n",
       "      <td>None</td>\n",
       "      <td>None</td>\n",
       "    </tr>\n",
       "  </tbody>\n",
       "</table>\n",
       "<p>1460 rows × 5 columns</p>\n",
       "</div>"
      ],
      "text/plain": [
       "     PoolQC MiscFeature Alley  Fence FireplaceQu\n",
       "0      None        None  None   None        None\n",
       "1      None        None  None   None          TA\n",
       "2      None        None  None   None          TA\n",
       "3      None        None  None   None          Gd\n",
       "4      None        None  None   None          TA\n",
       "...     ...         ...   ...    ...         ...\n",
       "1455   None        None  None   None          TA\n",
       "1456   None        None  None  MnPrv          TA\n",
       "1457   None        Shed  None  GdPrv          Gd\n",
       "1458   None        None  None   None        None\n",
       "1459   None        None  None   None        None\n",
       "\n",
       "[1460 rows x 5 columns]"
      ]
     },
     "execution_count": 11,
     "metadata": {},
     "output_type": "execute_result"
    }
   ],
   "source": [
    "data[column_nan_has_value] = fill_columns_with_nan_value(data)\n",
    "data[column_nan_has_value]"
   ]
  },
  {
   "cell_type": "markdown",
   "metadata": {},
   "source": [
    "The last missing feature with \"high\" missing percentage is 'LotFrontage', its missing percentage is not too high, so we'll just fill the missing values with the mean of the feature"
   ]
  },
  {
   "cell_type": "code",
   "execution_count": 12,
   "metadata": {},
   "outputs": [],
   "source": [
    "data['LotFrontage'] = data['LotFrontage'].fillna(data['LotFrontage'].mean())"
   ]
  },
  {
   "cell_type": "markdown",
   "metadata": {},
   "source": [
    "### Now taking a look at features with \"low\" missing percentages\n",
    "we can see that there's groups forming in these features, meaning the same rows missing the same columns, so lets get unique values and see our missing percentage"
   ]
  },
  {
   "cell_type": "code",
   "execution_count": 13,
   "metadata": {},
   "outputs": [
    {
     "data": {
      "text/plain": [
       "GarageType      5.547945\n",
       "GarageYrBlt     5.547945\n",
       "GarageFinish    5.547945\n",
       "GarageQual      5.547945\n",
       "GarageCond      5.547945\n",
       "BsmtExposure    2.602740\n",
       "BsmtFinType2    2.602740\n",
       "BsmtFinType1    2.534247\n",
       "BsmtCond        2.534247\n",
       "BsmtQual        2.534247\n",
       "MasVnrArea      0.547945\n",
       "MasVnrType      0.547945\n",
       "Electrical      0.068493\n",
       "dtype: float64"
      ]
     },
     "execution_count": 13,
     "metadata": {},
     "output_type": "execute_result"
    }
   ],
   "source": [
    "missing_percentages[missing_percentages < 10]"
   ]
  },
  {
   "cell_type": "markdown",
   "metadata": {},
   "source": [
    "Now we can see our distinct groups, they don't seem to be a lot so we'll just delete the rows with missing data"
   ]
  },
  {
   "cell_type": "code",
   "execution_count": 14,
   "metadata": {},
   "outputs": [
    {
     "data": {
      "text/plain": [
       "array([5.54794521, 2.60273973, 2.53424658, 0.54794521, 0.06849315])"
      ]
     },
     "execution_count": 14,
     "metadata": {},
     "output_type": "execute_result"
    }
   ],
   "source": [
    "missing_percentages[missing_percentages < 10].unique()"
   ]
  },
  {
   "cell_type": "code",
   "execution_count": 15,
   "metadata": {},
   "outputs": [],
   "source": [
    "def delete_missing_less_than(df, threshhold):\n",
    "  percentages = get_missing_percentages(df)\n",
    "  for column in percentages[percentages < threshhold].index:\n",
    "    df = df[~df[column].isna()]\n",
    "    df.reset_index(drop=True, inplace=True)\n",
    "  return df"
   ]
  },
  {
   "cell_type": "code",
   "execution_count": 16,
   "metadata": {},
   "outputs": [
    {
     "data": {
      "text/html": [
       "<div>\n",
       "<style scoped>\n",
       "    .dataframe tbody tr th:only-of-type {\n",
       "        vertical-align: middle;\n",
       "    }\n",
       "\n",
       "    .dataframe tbody tr th {\n",
       "        vertical-align: top;\n",
       "    }\n",
       "\n",
       "    .dataframe thead th {\n",
       "        text-align: right;\n",
       "    }\n",
       "</style>\n",
       "<table border=\"1\" class=\"dataframe\">\n",
       "  <thead>\n",
       "    <tr style=\"text-align: right;\">\n",
       "      <th></th>\n",
       "      <th>MSSubClass</th>\n",
       "      <th>MSZoning</th>\n",
       "      <th>LotFrontage</th>\n",
       "      <th>LotArea</th>\n",
       "      <th>Street</th>\n",
       "      <th>Alley</th>\n",
       "      <th>LotShape</th>\n",
       "      <th>LandContour</th>\n",
       "      <th>Utilities</th>\n",
       "      <th>LotConfig</th>\n",
       "      <th>...</th>\n",
       "      <th>PoolArea</th>\n",
       "      <th>PoolQC</th>\n",
       "      <th>Fence</th>\n",
       "      <th>MiscFeature</th>\n",
       "      <th>MiscVal</th>\n",
       "      <th>MoSold</th>\n",
       "      <th>YrSold</th>\n",
       "      <th>SaleType</th>\n",
       "      <th>SaleCondition</th>\n",
       "      <th>SalePrice</th>\n",
       "    </tr>\n",
       "  </thead>\n",
       "  <tbody>\n",
       "    <tr>\n",
       "      <th>0</th>\n",
       "      <td>60</td>\n",
       "      <td>RL</td>\n",
       "      <td>65.0</td>\n",
       "      <td>8450</td>\n",
       "      <td>Pave</td>\n",
       "      <td>None</td>\n",
       "      <td>Reg</td>\n",
       "      <td>Lvl</td>\n",
       "      <td>AllPub</td>\n",
       "      <td>Inside</td>\n",
       "      <td>...</td>\n",
       "      <td>0</td>\n",
       "      <td>None</td>\n",
       "      <td>None</td>\n",
       "      <td>None</td>\n",
       "      <td>0</td>\n",
       "      <td>2</td>\n",
       "      <td>2008</td>\n",
       "      <td>WD</td>\n",
       "      <td>Normal</td>\n",
       "      <td>208500</td>\n",
       "    </tr>\n",
       "    <tr>\n",
       "      <th>1</th>\n",
       "      <td>20</td>\n",
       "      <td>RL</td>\n",
       "      <td>80.0</td>\n",
       "      <td>9600</td>\n",
       "      <td>Pave</td>\n",
       "      <td>None</td>\n",
       "      <td>Reg</td>\n",
       "      <td>Lvl</td>\n",
       "      <td>AllPub</td>\n",
       "      <td>FR2</td>\n",
       "      <td>...</td>\n",
       "      <td>0</td>\n",
       "      <td>None</td>\n",
       "      <td>None</td>\n",
       "      <td>None</td>\n",
       "      <td>0</td>\n",
       "      <td>5</td>\n",
       "      <td>2007</td>\n",
       "      <td>WD</td>\n",
       "      <td>Normal</td>\n",
       "      <td>181500</td>\n",
       "    </tr>\n",
       "    <tr>\n",
       "      <th>2</th>\n",
       "      <td>60</td>\n",
       "      <td>RL</td>\n",
       "      <td>68.0</td>\n",
       "      <td>11250</td>\n",
       "      <td>Pave</td>\n",
       "      <td>None</td>\n",
       "      <td>IR1</td>\n",
       "      <td>Lvl</td>\n",
       "      <td>AllPub</td>\n",
       "      <td>Inside</td>\n",
       "      <td>...</td>\n",
       "      <td>0</td>\n",
       "      <td>None</td>\n",
       "      <td>None</td>\n",
       "      <td>None</td>\n",
       "      <td>0</td>\n",
       "      <td>9</td>\n",
       "      <td>2008</td>\n",
       "      <td>WD</td>\n",
       "      <td>Normal</td>\n",
       "      <td>223500</td>\n",
       "    </tr>\n",
       "    <tr>\n",
       "      <th>3</th>\n",
       "      <td>70</td>\n",
       "      <td>RL</td>\n",
       "      <td>60.0</td>\n",
       "      <td>9550</td>\n",
       "      <td>Pave</td>\n",
       "      <td>None</td>\n",
       "      <td>IR1</td>\n",
       "      <td>Lvl</td>\n",
       "      <td>AllPub</td>\n",
       "      <td>Corner</td>\n",
       "      <td>...</td>\n",
       "      <td>0</td>\n",
       "      <td>None</td>\n",
       "      <td>None</td>\n",
       "      <td>None</td>\n",
       "      <td>0</td>\n",
       "      <td>2</td>\n",
       "      <td>2006</td>\n",
       "      <td>WD</td>\n",
       "      <td>Abnorml</td>\n",
       "      <td>140000</td>\n",
       "    </tr>\n",
       "    <tr>\n",
       "      <th>4</th>\n",
       "      <td>60</td>\n",
       "      <td>RL</td>\n",
       "      <td>84.0</td>\n",
       "      <td>14260</td>\n",
       "      <td>Pave</td>\n",
       "      <td>None</td>\n",
       "      <td>IR1</td>\n",
       "      <td>Lvl</td>\n",
       "      <td>AllPub</td>\n",
       "      <td>FR2</td>\n",
       "      <td>...</td>\n",
       "      <td>0</td>\n",
       "      <td>None</td>\n",
       "      <td>None</td>\n",
       "      <td>None</td>\n",
       "      <td>0</td>\n",
       "      <td>12</td>\n",
       "      <td>2008</td>\n",
       "      <td>WD</td>\n",
       "      <td>Normal</td>\n",
       "      <td>250000</td>\n",
       "    </tr>\n",
       "    <tr>\n",
       "      <th>...</th>\n",
       "      <td>...</td>\n",
       "      <td>...</td>\n",
       "      <td>...</td>\n",
       "      <td>...</td>\n",
       "      <td>...</td>\n",
       "      <td>...</td>\n",
       "      <td>...</td>\n",
       "      <td>...</td>\n",
       "      <td>...</td>\n",
       "      <td>...</td>\n",
       "      <td>...</td>\n",
       "      <td>...</td>\n",
       "      <td>...</td>\n",
       "      <td>...</td>\n",
       "      <td>...</td>\n",
       "      <td>...</td>\n",
       "      <td>...</td>\n",
       "      <td>...</td>\n",
       "      <td>...</td>\n",
       "      <td>...</td>\n",
       "      <td>...</td>\n",
       "    </tr>\n",
       "    <tr>\n",
       "      <th>1333</th>\n",
       "      <td>60</td>\n",
       "      <td>RL</td>\n",
       "      <td>62.0</td>\n",
       "      <td>7917</td>\n",
       "      <td>Pave</td>\n",
       "      <td>None</td>\n",
       "      <td>Reg</td>\n",
       "      <td>Lvl</td>\n",
       "      <td>AllPub</td>\n",
       "      <td>Inside</td>\n",
       "      <td>...</td>\n",
       "      <td>0</td>\n",
       "      <td>None</td>\n",
       "      <td>None</td>\n",
       "      <td>None</td>\n",
       "      <td>0</td>\n",
       "      <td>8</td>\n",
       "      <td>2007</td>\n",
       "      <td>WD</td>\n",
       "      <td>Normal</td>\n",
       "      <td>175000</td>\n",
       "    </tr>\n",
       "    <tr>\n",
       "      <th>1334</th>\n",
       "      <td>20</td>\n",
       "      <td>RL</td>\n",
       "      <td>85.0</td>\n",
       "      <td>13175</td>\n",
       "      <td>Pave</td>\n",
       "      <td>None</td>\n",
       "      <td>Reg</td>\n",
       "      <td>Lvl</td>\n",
       "      <td>AllPub</td>\n",
       "      <td>Inside</td>\n",
       "      <td>...</td>\n",
       "      <td>0</td>\n",
       "      <td>None</td>\n",
       "      <td>MnPrv</td>\n",
       "      <td>None</td>\n",
       "      <td>0</td>\n",
       "      <td>2</td>\n",
       "      <td>2010</td>\n",
       "      <td>WD</td>\n",
       "      <td>Normal</td>\n",
       "      <td>210000</td>\n",
       "    </tr>\n",
       "    <tr>\n",
       "      <th>1335</th>\n",
       "      <td>70</td>\n",
       "      <td>RL</td>\n",
       "      <td>66.0</td>\n",
       "      <td>9042</td>\n",
       "      <td>Pave</td>\n",
       "      <td>None</td>\n",
       "      <td>Reg</td>\n",
       "      <td>Lvl</td>\n",
       "      <td>AllPub</td>\n",
       "      <td>Inside</td>\n",
       "      <td>...</td>\n",
       "      <td>0</td>\n",
       "      <td>None</td>\n",
       "      <td>GdPrv</td>\n",
       "      <td>Shed</td>\n",
       "      <td>2500</td>\n",
       "      <td>5</td>\n",
       "      <td>2010</td>\n",
       "      <td>WD</td>\n",
       "      <td>Normal</td>\n",
       "      <td>266500</td>\n",
       "    </tr>\n",
       "    <tr>\n",
       "      <th>1336</th>\n",
       "      <td>20</td>\n",
       "      <td>RL</td>\n",
       "      <td>68.0</td>\n",
       "      <td>9717</td>\n",
       "      <td>Pave</td>\n",
       "      <td>None</td>\n",
       "      <td>Reg</td>\n",
       "      <td>Lvl</td>\n",
       "      <td>AllPub</td>\n",
       "      <td>Inside</td>\n",
       "      <td>...</td>\n",
       "      <td>0</td>\n",
       "      <td>None</td>\n",
       "      <td>None</td>\n",
       "      <td>None</td>\n",
       "      <td>0</td>\n",
       "      <td>4</td>\n",
       "      <td>2010</td>\n",
       "      <td>WD</td>\n",
       "      <td>Normal</td>\n",
       "      <td>142125</td>\n",
       "    </tr>\n",
       "    <tr>\n",
       "      <th>1337</th>\n",
       "      <td>20</td>\n",
       "      <td>RL</td>\n",
       "      <td>75.0</td>\n",
       "      <td>9937</td>\n",
       "      <td>Pave</td>\n",
       "      <td>None</td>\n",
       "      <td>Reg</td>\n",
       "      <td>Lvl</td>\n",
       "      <td>AllPub</td>\n",
       "      <td>Inside</td>\n",
       "      <td>...</td>\n",
       "      <td>0</td>\n",
       "      <td>None</td>\n",
       "      <td>None</td>\n",
       "      <td>None</td>\n",
       "      <td>0</td>\n",
       "      <td>6</td>\n",
       "      <td>2008</td>\n",
       "      <td>WD</td>\n",
       "      <td>Normal</td>\n",
       "      <td>147500</td>\n",
       "    </tr>\n",
       "  </tbody>\n",
       "</table>\n",
       "<p>1338 rows × 80 columns</p>\n",
       "</div>"
      ],
      "text/plain": [
       "      MSSubClass MSZoning  LotFrontage  LotArea Street Alley LotShape  \\\n",
       "0             60       RL         65.0     8450   Pave  None      Reg   \n",
       "1             20       RL         80.0     9600   Pave  None      Reg   \n",
       "2             60       RL         68.0    11250   Pave  None      IR1   \n",
       "3             70       RL         60.0     9550   Pave  None      IR1   \n",
       "4             60       RL         84.0    14260   Pave  None      IR1   \n",
       "...          ...      ...          ...      ...    ...   ...      ...   \n",
       "1333          60       RL         62.0     7917   Pave  None      Reg   \n",
       "1334          20       RL         85.0    13175   Pave  None      Reg   \n",
       "1335          70       RL         66.0     9042   Pave  None      Reg   \n",
       "1336          20       RL         68.0     9717   Pave  None      Reg   \n",
       "1337          20       RL         75.0     9937   Pave  None      Reg   \n",
       "\n",
       "     LandContour Utilities LotConfig  ... PoolArea PoolQC  Fence MiscFeature  \\\n",
       "0            Lvl    AllPub    Inside  ...        0   None   None        None   \n",
       "1            Lvl    AllPub       FR2  ...        0   None   None        None   \n",
       "2            Lvl    AllPub    Inside  ...        0   None   None        None   \n",
       "3            Lvl    AllPub    Corner  ...        0   None   None        None   \n",
       "4            Lvl    AllPub       FR2  ...        0   None   None        None   \n",
       "...          ...       ...       ...  ...      ...    ...    ...         ...   \n",
       "1333         Lvl    AllPub    Inside  ...        0   None   None        None   \n",
       "1334         Lvl    AllPub    Inside  ...        0   None  MnPrv        None   \n",
       "1335         Lvl    AllPub    Inside  ...        0   None  GdPrv        Shed   \n",
       "1336         Lvl    AllPub    Inside  ...        0   None   None        None   \n",
       "1337         Lvl    AllPub    Inside  ...        0   None   None        None   \n",
       "\n",
       "     MiscVal MoSold  YrSold  SaleType  SaleCondition  SalePrice  \n",
       "0          0      2    2008        WD         Normal     208500  \n",
       "1          0      5    2007        WD         Normal     181500  \n",
       "2          0      9    2008        WD         Normal     223500  \n",
       "3          0      2    2006        WD        Abnorml     140000  \n",
       "4          0     12    2008        WD         Normal     250000  \n",
       "...      ...    ...     ...       ...            ...        ...  \n",
       "1333       0      8    2007        WD         Normal     175000  \n",
       "1334       0      2    2010        WD         Normal     210000  \n",
       "1335    2500      5    2010        WD         Normal     266500  \n",
       "1336       0      4    2010        WD         Normal     142125  \n",
       "1337       0      6    2008        WD         Normal     147500  \n",
       "\n",
       "[1338 rows x 80 columns]"
      ]
     },
     "execution_count": 16,
     "metadata": {},
     "output_type": "execute_result"
    }
   ],
   "source": [
    "data = delete_missing_less_than(data, 10)\n",
    "data"
   ]
  },
  {
   "cell_type": "markdown",
   "metadata": {},
   "source": [
    "## Dealing with skewed data\n",
    "we'll set our threshold to count a feature as \"skewed\" to 0.5"
   ]
  },
  {
   "cell_type": "code",
   "execution_count": 17,
   "metadata": {},
   "outputs": [
    {
     "data": {
      "text/plain": [
       "MSSubClass        1.391901\n",
       "LotFrontage       2.479517\n",
       "LotArea          11.938124\n",
       "OverallCond       0.897541\n",
       "MasVnrArea        2.582685\n",
       "BsmtFinSF1        1.693397\n",
       "BsmtFinSF2        4.146519\n",
       "BsmtUnfSF         0.935363\n",
       "TotalBsmtSF       2.214029\n",
       "1stFlrSF          1.397431\n",
       "2ndFlrSF          0.769147\n",
       "LowQualFinSF     10.566815\n",
       "GrLivArea         1.430307\n",
       "BsmtHalfBath      3.847909\n",
       "HalfBath          0.554013\n",
       "KitchenAbvGr      5.943561\n",
       "TotRmsAbvGrd      0.673364\n",
       "Fireplaces        0.570838\n",
       "GarageArea        0.807078\n",
       "WoodDeckSF        1.481740\n",
       "OpenPorchSF       2.250952\n",
       "EnclosedPorch     3.205286\n",
       "3SsnPorch        10.096553\n",
       "ScreenPorch       3.916848\n",
       "PoolArea         14.187832\n",
       "MiscVal          24.632578\n",
       "SalePrice         1.943686\n",
       "dtype: float64"
      ]
     },
     "execution_count": 17,
     "metadata": {},
     "output_type": "execute_result"
    }
   ],
   "source": [
    "skewed_data = data.skew(numeric_only=True)\n",
    "skewed_above_half = skewed_data[skewed_data > 0.5]\n",
    "skewed_above_half"
   ]
  },
  {
   "cell_type": "markdown",
   "metadata": {},
   "source": [
    "getting the skewed columns to \"unskew\" them"
   ]
  },
  {
   "cell_type": "code",
   "execution_count": 18,
   "metadata": {},
   "outputs": [
    {
     "data": {
      "text/plain": [
       "Index(['MSSubClass', 'LotFrontage', 'LotArea', 'OverallCond', 'MasVnrArea',\n",
       "       'BsmtFinSF1', 'BsmtFinSF2', 'BsmtUnfSF', 'TotalBsmtSF', '1stFlrSF',\n",
       "       '2ndFlrSF', 'LowQualFinSF', 'GrLivArea', 'BsmtHalfBath', 'HalfBath',\n",
       "       'KitchenAbvGr', 'TotRmsAbvGrd', 'Fireplaces', 'GarageArea',\n",
       "       'WoodDeckSF', 'OpenPorchSF', 'EnclosedPorch', '3SsnPorch',\n",
       "       'ScreenPorch', 'PoolArea', 'MiscVal', 'SalePrice'],\n",
       "      dtype='object')"
      ]
     },
     "execution_count": 18,
     "metadata": {},
     "output_type": "execute_result"
    }
   ],
   "source": [
    "columns_to_log_transform = skewed_above_half.index\n",
    "columns_to_log_transform"
   ]
  },
  {
   "cell_type": "markdown",
   "metadata": {},
   "source": [
    "Applying Log(x + 1) to the missing features"
   ]
  },
  {
   "cell_type": "code",
   "execution_count": 19,
   "metadata": {},
   "outputs": [],
   "source": [
    "for column in columns_to_log_transform:\n",
    "  data[column] = np.log1p(data[column])"
   ]
  },
  {
   "cell_type": "code",
   "execution_count": 20,
   "metadata": {},
   "outputs": [
    {
     "data": {
      "text/html": [
       "<div>\n",
       "<style scoped>\n",
       "    .dataframe tbody tr th:only-of-type {\n",
       "        vertical-align: middle;\n",
       "    }\n",
       "\n",
       "    .dataframe tbody tr th {\n",
       "        vertical-align: top;\n",
       "    }\n",
       "\n",
       "    .dataframe thead th {\n",
       "        text-align: right;\n",
       "    }\n",
       "</style>\n",
       "<table border=\"1\" class=\"dataframe\">\n",
       "  <thead>\n",
       "    <tr style=\"text-align: right;\">\n",
       "      <th></th>\n",
       "      <th>MSSubClass</th>\n",
       "      <th>LotFrontage</th>\n",
       "      <th>LotArea</th>\n",
       "      <th>OverallCond</th>\n",
       "      <th>MasVnrArea</th>\n",
       "      <th>BsmtFinSF1</th>\n",
       "      <th>BsmtFinSF2</th>\n",
       "      <th>BsmtUnfSF</th>\n",
       "      <th>TotalBsmtSF</th>\n",
       "      <th>1stFlrSF</th>\n",
       "      <th>...</th>\n",
       "      <th>Fireplaces</th>\n",
       "      <th>GarageArea</th>\n",
       "      <th>WoodDeckSF</th>\n",
       "      <th>OpenPorchSF</th>\n",
       "      <th>EnclosedPorch</th>\n",
       "      <th>3SsnPorch</th>\n",
       "      <th>ScreenPorch</th>\n",
       "      <th>PoolArea</th>\n",
       "      <th>MiscVal</th>\n",
       "      <th>SalePrice</th>\n",
       "    </tr>\n",
       "  </thead>\n",
       "  <tbody>\n",
       "    <tr>\n",
       "      <th>0</th>\n",
       "      <td>4.110874</td>\n",
       "      <td>4.189655</td>\n",
       "      <td>9.042040</td>\n",
       "      <td>1.791759</td>\n",
       "      <td>5.283204</td>\n",
       "      <td>6.561031</td>\n",
       "      <td>0.000000</td>\n",
       "      <td>5.017280</td>\n",
       "      <td>6.753438</td>\n",
       "      <td>6.753438</td>\n",
       "      <td>...</td>\n",
       "      <td>0.000000</td>\n",
       "      <td>6.308098</td>\n",
       "      <td>0.000000</td>\n",
       "      <td>4.127134</td>\n",
       "      <td>0.000000</td>\n",
       "      <td>0.0</td>\n",
       "      <td>0.0</td>\n",
       "      <td>0.0</td>\n",
       "      <td>0.000000</td>\n",
       "      <td>12.247699</td>\n",
       "    </tr>\n",
       "    <tr>\n",
       "      <th>1</th>\n",
       "      <td>3.044522</td>\n",
       "      <td>4.394449</td>\n",
       "      <td>9.169623</td>\n",
       "      <td>2.197225</td>\n",
       "      <td>0.000000</td>\n",
       "      <td>6.886532</td>\n",
       "      <td>0.000000</td>\n",
       "      <td>5.652489</td>\n",
       "      <td>7.141245</td>\n",
       "      <td>7.141245</td>\n",
       "      <td>...</td>\n",
       "      <td>0.693147</td>\n",
       "      <td>6.133398</td>\n",
       "      <td>5.700444</td>\n",
       "      <td>0.000000</td>\n",
       "      <td>0.000000</td>\n",
       "      <td>0.0</td>\n",
       "      <td>0.0</td>\n",
       "      <td>0.0</td>\n",
       "      <td>0.000000</td>\n",
       "      <td>12.109016</td>\n",
       "    </tr>\n",
       "    <tr>\n",
       "      <th>2</th>\n",
       "      <td>4.110874</td>\n",
       "      <td>4.234107</td>\n",
       "      <td>9.328212</td>\n",
       "      <td>1.791759</td>\n",
       "      <td>5.093750</td>\n",
       "      <td>6.188264</td>\n",
       "      <td>0.000000</td>\n",
       "      <td>6.075346</td>\n",
       "      <td>6.825460</td>\n",
       "      <td>6.825460</td>\n",
       "      <td>...</td>\n",
       "      <td>0.693147</td>\n",
       "      <td>6.411818</td>\n",
       "      <td>0.000000</td>\n",
       "      <td>3.761200</td>\n",
       "      <td>0.000000</td>\n",
       "      <td>0.0</td>\n",
       "      <td>0.0</td>\n",
       "      <td>0.0</td>\n",
       "      <td>0.000000</td>\n",
       "      <td>12.317171</td>\n",
       "    </tr>\n",
       "    <tr>\n",
       "      <th>3</th>\n",
       "      <td>4.262680</td>\n",
       "      <td>4.110874</td>\n",
       "      <td>9.164401</td>\n",
       "      <td>1.791759</td>\n",
       "      <td>0.000000</td>\n",
       "      <td>5.379897</td>\n",
       "      <td>0.000000</td>\n",
       "      <td>6.293419</td>\n",
       "      <td>6.629363</td>\n",
       "      <td>6.869014</td>\n",
       "      <td>...</td>\n",
       "      <td>0.693147</td>\n",
       "      <td>6.466145</td>\n",
       "      <td>0.000000</td>\n",
       "      <td>3.583519</td>\n",
       "      <td>5.609472</td>\n",
       "      <td>0.0</td>\n",
       "      <td>0.0</td>\n",
       "      <td>0.0</td>\n",
       "      <td>0.000000</td>\n",
       "      <td>11.849405</td>\n",
       "    </tr>\n",
       "    <tr>\n",
       "      <th>4</th>\n",
       "      <td>4.110874</td>\n",
       "      <td>4.442651</td>\n",
       "      <td>9.565284</td>\n",
       "      <td>1.791759</td>\n",
       "      <td>5.860786</td>\n",
       "      <td>6.486161</td>\n",
       "      <td>0.000000</td>\n",
       "      <td>6.196444</td>\n",
       "      <td>7.044033</td>\n",
       "      <td>7.044033</td>\n",
       "      <td>...</td>\n",
       "      <td>0.693147</td>\n",
       "      <td>6.729824</td>\n",
       "      <td>5.262690</td>\n",
       "      <td>4.442651</td>\n",
       "      <td>0.000000</td>\n",
       "      <td>0.0</td>\n",
       "      <td>0.0</td>\n",
       "      <td>0.0</td>\n",
       "      <td>0.000000</td>\n",
       "      <td>12.429220</td>\n",
       "    </tr>\n",
       "    <tr>\n",
       "      <th>...</th>\n",
       "      <td>...</td>\n",
       "      <td>...</td>\n",
       "      <td>...</td>\n",
       "      <td>...</td>\n",
       "      <td>...</td>\n",
       "      <td>...</td>\n",
       "      <td>...</td>\n",
       "      <td>...</td>\n",
       "      <td>...</td>\n",
       "      <td>...</td>\n",
       "      <td>...</td>\n",
       "      <td>...</td>\n",
       "      <td>...</td>\n",
       "      <td>...</td>\n",
       "      <td>...</td>\n",
       "      <td>...</td>\n",
       "      <td>...</td>\n",
       "      <td>...</td>\n",
       "      <td>...</td>\n",
       "      <td>...</td>\n",
       "      <td>...</td>\n",
       "    </tr>\n",
       "    <tr>\n",
       "      <th>1333</th>\n",
       "      <td>4.110874</td>\n",
       "      <td>4.143135</td>\n",
       "      <td>8.976894</td>\n",
       "      <td>1.791759</td>\n",
       "      <td>0.000000</td>\n",
       "      <td>0.000000</td>\n",
       "      <td>0.000000</td>\n",
       "      <td>6.860664</td>\n",
       "      <td>6.860664</td>\n",
       "      <td>6.860664</td>\n",
       "      <td>...</td>\n",
       "      <td>0.693147</td>\n",
       "      <td>6.133398</td>\n",
       "      <td>0.000000</td>\n",
       "      <td>3.713572</td>\n",
       "      <td>0.000000</td>\n",
       "      <td>0.0</td>\n",
       "      <td>0.0</td>\n",
       "      <td>0.0</td>\n",
       "      <td>0.000000</td>\n",
       "      <td>12.072547</td>\n",
       "    </tr>\n",
       "    <tr>\n",
       "      <th>1334</th>\n",
       "      <td>3.044522</td>\n",
       "      <td>4.454347</td>\n",
       "      <td>9.486152</td>\n",
       "      <td>1.945910</td>\n",
       "      <td>4.787492</td>\n",
       "      <td>6.673298</td>\n",
       "      <td>5.099866</td>\n",
       "      <td>6.380123</td>\n",
       "      <td>7.341484</td>\n",
       "      <td>7.637234</td>\n",
       "      <td>...</td>\n",
       "      <td>1.098612</td>\n",
       "      <td>6.216606</td>\n",
       "      <td>5.857933</td>\n",
       "      <td>0.000000</td>\n",
       "      <td>0.000000</td>\n",
       "      <td>0.0</td>\n",
       "      <td>0.0</td>\n",
       "      <td>0.0</td>\n",
       "      <td>0.000000</td>\n",
       "      <td>12.254868</td>\n",
       "    </tr>\n",
       "    <tr>\n",
       "      <th>1335</th>\n",
       "      <td>4.262680</td>\n",
       "      <td>4.204693</td>\n",
       "      <td>9.109746</td>\n",
       "      <td>2.302585</td>\n",
       "      <td>0.000000</td>\n",
       "      <td>5.620401</td>\n",
       "      <td>0.000000</td>\n",
       "      <td>6.777647</td>\n",
       "      <td>7.050123</td>\n",
       "      <td>7.080868</td>\n",
       "      <td>...</td>\n",
       "      <td>1.098612</td>\n",
       "      <td>5.533389</td>\n",
       "      <td>0.000000</td>\n",
       "      <td>4.110874</td>\n",
       "      <td>0.000000</td>\n",
       "      <td>0.0</td>\n",
       "      <td>0.0</td>\n",
       "      <td>0.0</td>\n",
       "      <td>7.824446</td>\n",
       "      <td>12.493133</td>\n",
       "    </tr>\n",
       "    <tr>\n",
       "      <th>1336</th>\n",
       "      <td>3.044522</td>\n",
       "      <td>4.234107</td>\n",
       "      <td>9.181735</td>\n",
       "      <td>1.945910</td>\n",
       "      <td>0.000000</td>\n",
       "      <td>3.912023</td>\n",
       "      <td>6.937314</td>\n",
       "      <td>0.000000</td>\n",
       "      <td>6.983790</td>\n",
       "      <td>6.983790</td>\n",
       "      <td>...</td>\n",
       "      <td>0.000000</td>\n",
       "      <td>5.484797</td>\n",
       "      <td>5.905362</td>\n",
       "      <td>0.000000</td>\n",
       "      <td>4.727388</td>\n",
       "      <td>0.0</td>\n",
       "      <td>0.0</td>\n",
       "      <td>0.0</td>\n",
       "      <td>0.000000</td>\n",
       "      <td>11.864469</td>\n",
       "    </tr>\n",
       "    <tr>\n",
       "      <th>1337</th>\n",
       "      <td>3.044522</td>\n",
       "      <td>4.330733</td>\n",
       "      <td>9.204121</td>\n",
       "      <td>1.945910</td>\n",
       "      <td>0.000000</td>\n",
       "      <td>6.722630</td>\n",
       "      <td>5.673323</td>\n",
       "      <td>4.919981</td>\n",
       "      <td>7.136483</td>\n",
       "      <td>7.136483</td>\n",
       "      <td>...</td>\n",
       "      <td>0.000000</td>\n",
       "      <td>5.624018</td>\n",
       "      <td>6.602588</td>\n",
       "      <td>4.234107</td>\n",
       "      <td>0.000000</td>\n",
       "      <td>0.0</td>\n",
       "      <td>0.0</td>\n",
       "      <td>0.0</td>\n",
       "      <td>0.000000</td>\n",
       "      <td>11.901590</td>\n",
       "    </tr>\n",
       "  </tbody>\n",
       "</table>\n",
       "<p>1338 rows × 27 columns</p>\n",
       "</div>"
      ],
      "text/plain": [
       "      MSSubClass  LotFrontage   LotArea  OverallCond  MasVnrArea  BsmtFinSF1  \\\n",
       "0       4.110874     4.189655  9.042040     1.791759    5.283204    6.561031   \n",
       "1       3.044522     4.394449  9.169623     2.197225    0.000000    6.886532   \n",
       "2       4.110874     4.234107  9.328212     1.791759    5.093750    6.188264   \n",
       "3       4.262680     4.110874  9.164401     1.791759    0.000000    5.379897   \n",
       "4       4.110874     4.442651  9.565284     1.791759    5.860786    6.486161   \n",
       "...          ...          ...       ...          ...         ...         ...   \n",
       "1333    4.110874     4.143135  8.976894     1.791759    0.000000    0.000000   \n",
       "1334    3.044522     4.454347  9.486152     1.945910    4.787492    6.673298   \n",
       "1335    4.262680     4.204693  9.109746     2.302585    0.000000    5.620401   \n",
       "1336    3.044522     4.234107  9.181735     1.945910    0.000000    3.912023   \n",
       "1337    3.044522     4.330733  9.204121     1.945910    0.000000    6.722630   \n",
       "\n",
       "      BsmtFinSF2  BsmtUnfSF  TotalBsmtSF  1stFlrSF  ...  Fireplaces  \\\n",
       "0       0.000000   5.017280     6.753438  6.753438  ...    0.000000   \n",
       "1       0.000000   5.652489     7.141245  7.141245  ...    0.693147   \n",
       "2       0.000000   6.075346     6.825460  6.825460  ...    0.693147   \n",
       "3       0.000000   6.293419     6.629363  6.869014  ...    0.693147   \n",
       "4       0.000000   6.196444     7.044033  7.044033  ...    0.693147   \n",
       "...          ...        ...          ...       ...  ...         ...   \n",
       "1333    0.000000   6.860664     6.860664  6.860664  ...    0.693147   \n",
       "1334    5.099866   6.380123     7.341484  7.637234  ...    1.098612   \n",
       "1335    0.000000   6.777647     7.050123  7.080868  ...    1.098612   \n",
       "1336    6.937314   0.000000     6.983790  6.983790  ...    0.000000   \n",
       "1337    5.673323   4.919981     7.136483  7.136483  ...    0.000000   \n",
       "\n",
       "      GarageArea  WoodDeckSF  OpenPorchSF  EnclosedPorch  3SsnPorch  \\\n",
       "0       6.308098    0.000000     4.127134       0.000000        0.0   \n",
       "1       6.133398    5.700444     0.000000       0.000000        0.0   \n",
       "2       6.411818    0.000000     3.761200       0.000000        0.0   \n",
       "3       6.466145    0.000000     3.583519       5.609472        0.0   \n",
       "4       6.729824    5.262690     4.442651       0.000000        0.0   \n",
       "...          ...         ...          ...            ...        ...   \n",
       "1333    6.133398    0.000000     3.713572       0.000000        0.0   \n",
       "1334    6.216606    5.857933     0.000000       0.000000        0.0   \n",
       "1335    5.533389    0.000000     4.110874       0.000000        0.0   \n",
       "1336    5.484797    5.905362     0.000000       4.727388        0.0   \n",
       "1337    5.624018    6.602588     4.234107       0.000000        0.0   \n",
       "\n",
       "      ScreenPorch  PoolArea   MiscVal  SalePrice  \n",
       "0             0.0       0.0  0.000000  12.247699  \n",
       "1             0.0       0.0  0.000000  12.109016  \n",
       "2             0.0       0.0  0.000000  12.317171  \n",
       "3             0.0       0.0  0.000000  11.849405  \n",
       "4             0.0       0.0  0.000000  12.429220  \n",
       "...           ...       ...       ...        ...  \n",
       "1333          0.0       0.0  0.000000  12.072547  \n",
       "1334          0.0       0.0  0.000000  12.254868  \n",
       "1335          0.0       0.0  7.824446  12.493133  \n",
       "1336          0.0       0.0  0.000000  11.864469  \n",
       "1337          0.0       0.0  0.000000  11.901590  \n",
       "\n",
       "[1338 rows x 27 columns]"
      ]
     },
     "execution_count": 20,
     "metadata": {},
     "output_type": "execute_result"
    }
   ],
   "source": [
    "data[columns_to_log_transform]"
   ]
  },
  {
   "cell_type": "markdown",
   "metadata": {},
   "source": [
    "## Dealing with categorical data"
   ]
  },
  {
   "cell_type": "markdown",
   "metadata": {},
   "source": [
    "Getting all categorical data"
   ]
  },
  {
   "cell_type": "code",
   "execution_count": 21,
   "metadata": {},
   "outputs": [
    {
     "data": {
      "text/plain": [
       "Index(['MSZoning', 'Street', 'Alley', 'LotShape', 'LandContour', 'Utilities',\n",
       "       'LotConfig', 'LandSlope', 'Neighborhood', 'Condition1', 'Condition2',\n",
       "       'BldgType', 'HouseStyle', 'RoofStyle', 'RoofMatl', 'Exterior1st',\n",
       "       'Exterior2nd', 'MasVnrType', 'ExterQual', 'ExterCond', 'Foundation',\n",
       "       'BsmtQual', 'BsmtCond', 'BsmtExposure', 'BsmtFinType1', 'BsmtFinType2',\n",
       "       'Heating', 'HeatingQC', 'CentralAir', 'Electrical', 'KitchenQual',\n",
       "       'Functional', 'FireplaceQu', 'GarageType', 'GarageFinish', 'GarageQual',\n",
       "       'GarageCond', 'PavedDrive', 'PoolQC', 'Fence', 'MiscFeature',\n",
       "       'SaleType', 'SaleCondition'],\n",
       "      dtype='object')"
      ]
     },
     "execution_count": 21,
     "metadata": {},
     "output_type": "execute_result"
    }
   ],
   "source": [
    "cat_columns = data.select_dtypes(include='object').columns\n",
    "cat_columns"
   ]
  },
  {
   "cell_type": "markdown",
   "metadata": {},
   "source": [
    "Defining our ordinal features"
   ]
  },
  {
   "cell_type": "code",
   "execution_count": 22,
   "metadata": {},
   "outputs": [],
   "source": [
    "ordinal_columns = ['LotShape', 'LandContour', 'LandSlope', 'ExterQual', 'ExterCond', 'BsmtQual', 'BsmtCond',\\\n",
    "  'BsmtExposure', 'BsmtFinType1', 'BsmtFinType2', 'HeatingQC', 'KitchenQual', 'Functional', 'FireplaceQu', 'GarageFinish', 'GarageQual',\\\n",
    "  'GarageCond', 'PavedDrive', 'PoolQC', 'Fence', 'Electrical']"
   ]
  },
  {
   "cell_type": "markdown",
   "metadata": {},
   "source": [
    "Getting the rest of the features as nominal features"
   ]
  },
  {
   "cell_type": "code",
   "execution_count": 23,
   "metadata": {},
   "outputs": [
    {
     "data": {
      "text/plain": [
       "Index(['MSZoning', 'Street', 'Alley', 'Utilities', 'LotConfig', 'Neighborhood',\n",
       "       'Condition1', 'Condition2', 'BldgType', 'HouseStyle', 'RoofStyle',\n",
       "       'RoofMatl', 'Exterior1st', 'Exterior2nd', 'MasVnrType', 'Foundation',\n",
       "       'Heating', 'CentralAir', 'GarageType', 'MiscFeature', 'SaleType',\n",
       "       'SaleCondition'],\n",
       "      dtype='object')"
      ]
     },
     "execution_count": 23,
     "metadata": {},
     "output_type": "execute_result"
    }
   ],
   "source": [
    "nominal_columns = cat_columns[~np.isin(cat_columns, ordinal_columns)]\n",
    "nominal_columns"
   ]
  },
  {
   "cell_type": "markdown",
   "metadata": {},
   "source": [
    "Saving all possible values for each nominal feature, this is done because some features in the training dataset don't have all the possible values they can get, so we need to supply them manually"
   ]
  },
  {
   "cell_type": "code",
   "execution_count": 24,
   "metadata": {},
   "outputs": [],
   "source": [
    "condition_values = ['Artery', 'Feedr', 'Norm', 'RRNn', 'RRAn', 'PosN', 'PosA', 'RRNe', 'RRAe']\n",
    "exterior_covering_values = ['AsbShng', 'AsphShn', 'Brk Cmn', 'BrkFace', 'CBlock', 'CmentBd', 'CemntBd', 'HdBoard', 'ImStucc', 'MetalSd', 'Other',\\\n",
    "  'Plywood', 'PreCase', 'Stone', 'Stucco', 'VinylSd', 'Wd Sdng', 'Wd Shng', 'WdShing', 'BrkComm']\n",
    "unique_nominal_values = [\n",
    "  ['A', 'C (all)', 'FV', 'I', 'RH', 'RL', 'RP', 'RM'],\n",
    "  ['Grvl', 'Pave'],\n",
    "  ['Grvl', 'Pave', 'None'],\n",
    "  ['AllPub', 'NoSewr', 'NoSeWa', 'ELO'],\n",
    "  ['Inside', 'Corner', 'CulDSac', 'FR2', 'FR3'],\n",
    "  ['Blmngtn', 'Blueste', 'BrDale', 'BrkSide', 'ClearCr', 'CollgCr', 'Crawfor', 'Edwards', 'Gilbert', 'IDOTRR', 'MeadowV', 'Mitchel',\\\n",
    "    'NAmes', 'NoRidge', 'NPkVill', 'NridgHt', 'NWAmes', 'OldTown', 'SWISU', 'Sawyer', 'SawyerW', 'Somerst', 'StoneBr', 'Timber', 'Veenker'],\n",
    "  condition_values,\n",
    "  condition_values,\n",
    "  ['1Fam', '2fmCon', 'Duplex', 'TwnhsE', 'Twnhs'],\n",
    "  ['1Story', '1.5Fin', '1.5Unf', '2Story', '2.5Fin', '2.5Unf', 'SFoyer', 'SLvl'],\n",
    "  ['Flat', 'Gable', 'Gambrel', 'Hip', 'Mansard', 'Shed'],\n",
    "  ['ClyTile', 'CompShg', 'Membran', 'Metal', 'Roll', 'Tar&Grv', 'WdShake', 'WdShngl'],\n",
    "  exterior_covering_values,\n",
    "  exterior_covering_values,\n",
    "  ['BrkCmn', 'BrkFace', 'CBlock', 'None', 'Stone'],\n",
    "  ['BrkTil', 'CBlock', 'PConc', 'Slab', 'Stone', 'Wood'],\n",
    "  ['Floor', 'GasA', 'GasW', 'Grav', 'OthW', 'Wall'],\n",
    "  ['Y', 'N'],\n",
    "  ['2Types', 'Attchd', 'Basment', 'BuiltIn', 'CarPort', 'Detchd', 'None'],\n",
    "  ['Elev', 'Gar2', 'Othr', 'Shed', 'TenC', 'None'],\n",
    "  ['WD', 'CWD', 'VWD', 'New', 'COD', 'Con', 'ConLw', 'ConLI','ConLD', 'Oth'],\n",
    "  ['Normal', 'Abnorml', 'AdjLand', 'Alloca', 'Family', 'Partial']\n",
    "]"
   ]
  },
  {
   "cell_type": "markdown",
   "metadata": {},
   "source": [
    "Saving all possible values for ordinal features, same reason as above"
   ]
  },
  {
   "cell_type": "code",
   "execution_count": 25,
   "metadata": {},
   "outputs": [],
   "source": [
    "quality_values = ['Ex', 'Gd', 'TA', 'Fa', 'Po']\n",
    "quality_values_nan = [*quality_values, 'None']\n",
    "base_fin_type_values = ['ALQ', 'GLQ', 'Unf', 'BLQ', 'LwQ', 'Rec', 'None']\n",
    "\n",
    "unique_ordinal_values = [\n",
    "  ['Reg', 'IR1', 'IR2', 'IR3'],\n",
    "  ['Lvl', 'Bnk', 'HLS', 'Low'],\n",
    "  ['Gtl', 'Mod', 'Sev'],\n",
    "  quality_values,\n",
    "  quality_values,\n",
    "  quality_values_nan,\n",
    "  quality_values_nan,\n",
    "  ['Gd', 'Av', 'Mn', 'No', 'None'],\n",
    "  base_fin_type_values,\n",
    "  base_fin_type_values,\n",
    "  quality_values,\n",
    "  quality_values,\n",
    "  ['Typ', 'Min1', 'Min2', 'Mod', 'Maj1', 'Maj2', 'Sev', 'Sal'],\n",
    "  quality_values_nan,\n",
    "  ['Fin', 'RFn', 'Unf', 'None'],\n",
    "  quality_values_nan,\n",
    "  quality_values_nan,\n",
    "  ['Y', 'P', 'N'],\n",
    "  quality_values_nan,\n",
    "  ['GdPrv', 'MnPrv', 'GdWo', 'MnWw', 'None'],\n",
    "  ['SBrkr', 'FuseA', 'FuseF', 'FuseP', 'Mix']\n",
    "]"
   ]
  },
  {
   "cell_type": "markdown",
   "metadata": {},
   "source": [
    "Fitting a one hot encoder on the nominal features"
   ]
  },
  {
   "cell_type": "code",
   "execution_count": 26,
   "metadata": {},
   "outputs": [
    {
     "data": {
      "text/plain": [
       "OneHotEncoder(categories=[['A', 'C (all)', 'FV', 'I', 'RH', 'RL', 'RP', 'RM'],\n",
       "                          ['Grvl', 'Pave'], ['Grvl', 'Pave', 'None'],\n",
       "                          ['AllPub', 'NoSewr', 'NoSeWa', 'ELO'],\n",
       "                          ['Inside', 'Corner', 'CulDSac', 'FR2', 'FR3'],\n",
       "                          ['Blmngtn', 'Blueste', 'BrDale', 'BrkSide', 'ClearCr',\n",
       "                           'CollgCr', 'Crawfor', 'Edwards', 'Gilbert', 'IDOTRR',\n",
       "                           'MeadowV', 'Mitchel', 'NAmes', 'NoRidge', 'NPkVill',\n",
       "                           'NridgHt', 'NWAmes...\n",
       "                          ['BrkTil', 'CBlock', 'PConc', 'Slab', 'Stone',\n",
       "                           'Wood'],\n",
       "                          ['Floor', 'GasA', 'GasW', 'Grav', 'OthW', 'Wall'],\n",
       "                          ['Y', 'N'],\n",
       "                          ['2Types', 'Attchd', 'Basment', 'BuiltIn', 'CarPort',\n",
       "                           'Detchd', 'None'],\n",
       "                          ['Elev', 'Gar2', 'Othr', 'Shed', 'TenC', 'None'],\n",
       "                          ['WD', 'CWD', 'VWD', 'New', 'COD', 'Con', 'ConLw',\n",
       "                           'ConLI', 'ConLD', 'Oth'],\n",
       "                          ['Normal', 'Abnorml', 'AdjLand', 'Alloca', 'Family',\n",
       "                           'Partial']],\n",
       "              dtype=<class 'numpy.int16'>)"
      ]
     },
     "execution_count": 26,
     "metadata": {},
     "output_type": "execute_result"
    }
   ],
   "source": [
    "one_hot_encoder = OneHotEncoder(dtype=np.int16, categories=unique_nominal_values)\n",
    "one_hot_encoder.fit(data[nominal_columns])"
   ]
  },
  {
   "cell_type": "markdown",
   "metadata": {},
   "source": [
    "Fitting an ordinal encoder on the ordinal features"
   ]
  },
  {
   "cell_type": "code",
   "execution_count": 27,
   "metadata": {},
   "outputs": [
    {
     "data": {
      "text/plain": [
       "OrdinalEncoder(categories=[['Reg', 'IR1', 'IR2', 'IR3'],\n",
       "                           ['Lvl', 'Bnk', 'HLS', 'Low'], ['Gtl', 'Mod', 'Sev'],\n",
       "                           ['Ex', 'Gd', 'TA', 'Fa', 'Po'],\n",
       "                           ['Ex', 'Gd', 'TA', 'Fa', 'Po'],\n",
       "                           ['Ex', 'Gd', 'TA', 'Fa', 'Po', 'None'],\n",
       "                           ['Ex', 'Gd', 'TA', 'Fa', 'Po', 'None'],\n",
       "                           ['Gd', 'Av', 'Mn', 'No', 'None'],\n",
       "                           ['ALQ', 'GLQ', 'Unf', 'BLQ', 'LwQ', 'Rec', 'None'],\n",
       "                           ['ALQ', 'GLQ', 'Unf', 'BLQ', 'LwQ', 'Rec', 'None'],\n",
       "                           ['Ex', 'Gd'...\n",
       "                           ['Ex', 'Gd', 'TA', 'Fa', 'Po'],\n",
       "                           ['Typ', 'Min1', 'Min2', 'Mod', 'Maj1', 'Maj2', 'Sev',\n",
       "                            'Sal'],\n",
       "                           ['Ex', 'Gd', 'TA', 'Fa', 'Po', 'None'],\n",
       "                           ['Fin', 'RFn', 'Unf', 'None'],\n",
       "                           ['Ex', 'Gd', 'TA', 'Fa', 'Po', 'None'],\n",
       "                           ['Ex', 'Gd', 'TA', 'Fa', 'Po', 'None'],\n",
       "                           ['Y', 'P', 'N'],\n",
       "                           ['Ex', 'Gd', 'TA', 'Fa', 'Po', 'None'],\n",
       "                           ['GdPrv', 'MnPrv', 'GdWo', 'MnWw', 'None'],\n",
       "                           ['SBrkr', 'FuseA', 'FuseF', 'FuseP', 'Mix']],\n",
       "               dtype=<class 'numpy.int16'>)"
      ]
     },
     "execution_count": 27,
     "metadata": {},
     "output_type": "execute_result"
    }
   ],
   "source": [
    "ordinal_encoder = OrdinalEncoder(dtype=np.int16, categories=unique_ordinal_values)\n",
    "ordinal_encoder.fit(data[ordinal_columns])"
   ]
  },
  {
   "cell_type": "markdown",
   "metadata": {},
   "source": [
    "Fitting a column transformer that includes the one hot encoder and ordinal encoder"
   ]
  },
  {
   "cell_type": "code",
   "execution_count": 28,
   "metadata": {},
   "outputs": [
    {
     "data": {
      "text/plain": [
       "ColumnTransformer(remainder='passthrough',\n",
       "                  transformers=[('onehotencoder',\n",
       "                                 OneHotEncoder(categories=[['A', 'C (all)',\n",
       "                                                            'FV', 'I', 'RH',\n",
       "                                                            'RL', 'RP', 'RM'],\n",
       "                                                           ['Grvl', 'Pave'],\n",
       "                                                           ['Grvl', 'Pave',\n",
       "                                                            'None'],\n",
       "                                                           ['AllPub', 'NoSewr',\n",
       "                                                            'NoSeWa', 'ELO'],\n",
       "                                                           ['Inside', 'Corner',\n",
       "                                                            'CulDSac', 'FR2',\n",
       "                                                            'FR3'],\n",
       "                                                           ['Blmngtn',\n",
       "                                                            'Blueste', 'BrDale',\n",
       "                                                            'BrkSide',\n",
       "                                                            'ClearCr',\n",
       "                                                            'CollgCr',\n",
       "                                                            'Crawfor',\n",
       "                                                            'Edwards',\n",
       "                                                            'Gilbert', '...\n",
       "                                                             'GdWo', 'MnWw',\n",
       "                                                             'None'],\n",
       "                                                            ['SBrkr', 'FuseA',\n",
       "                                                             'FuseF', 'FuseP',\n",
       "                                                             'Mix']],\n",
       "                                                dtype=<class 'numpy.int16'>),\n",
       "                                 ['LotShape', 'LandContour', 'LandSlope',\n",
       "                                  'ExterQual', 'ExterCond', 'BsmtQual',\n",
       "                                  'BsmtCond', 'BsmtExposure', 'BsmtFinType1',\n",
       "                                  'BsmtFinType2', 'HeatingQC', 'KitchenQual',\n",
       "                                  'Functional', 'FireplaceQu', 'GarageFinish',\n",
       "                                  'GarageQual', 'GarageCond', 'PavedDrive',\n",
       "                                  'PoolQC', 'Fence', 'Electrical'])])"
      ]
     },
     "execution_count": 28,
     "metadata": {},
     "output_type": "execute_result"
    }
   ],
   "source": [
    "column_transformer = make_column_transformer(\n",
    "  (one_hot_encoder, nominal_columns),\n",
    "  (ordinal_encoder, ordinal_columns),\n",
    "  remainder='passthrough'\n",
    ")\n",
    "\n",
    "column_transformer.fit(data.drop(columns=['SalePrice']), data['SalePrice'])"
   ]
  },
  {
   "cell_type": "markdown",
   "metadata": {},
   "source": [
    "Preparing our pipelines to test"
   ]
  },
  {
   "cell_type": "code",
   "execution_count": 29,
   "metadata": {},
   "outputs": [],
   "source": [
    "gbt_pipeline = make_pipeline(\n",
    "  column_transformer,\n",
    "  GradientBoostingRegressor(random_state=2002)\n",
    ")\n",
    "\n",
    "rf_pipeline = make_pipeline(\n",
    "  column_transformer,\n",
    "  RandomForestRegressor(n_jobs=-1, random_state=2002)\n",
    ")\n",
    "\n",
    "knn_pipeline = make_pipeline(\n",
    "  column_transformer,\n",
    "  KNeighborsRegressor(n_jobs=-1)\n",
    ")\n",
    "\n",
    "poly_pipeline = make_pipeline(\n",
    "  column_transformer,\n",
    "  Normalizer(),\n",
    "  PolynomialFeatures(interaction_only=True),\n",
    "  LinearRegression(n_jobs=-1)\n",
    ")"
   ]
  },
  {
   "cell_type": "code",
   "execution_count": 30,
   "metadata": {},
   "outputs": [
    {
     "data": {
      "text/plain": [
       "dict_keys(['memory', 'steps', 'verbose', 'columntransformer', 'gradientboostingregressor', 'columntransformer__n_jobs', 'columntransformer__remainder', 'columntransformer__sparse_threshold', 'columntransformer__transformer_weights', 'columntransformer__transformers', 'columntransformer__verbose', 'columntransformer__verbose_feature_names_out', 'columntransformer__onehotencoder', 'columntransformer__ordinalencoder', 'columntransformer__onehotencoder__categories', 'columntransformer__onehotencoder__drop', 'columntransformer__onehotencoder__dtype', 'columntransformer__onehotencoder__handle_unknown', 'columntransformer__onehotencoder__sparse', 'columntransformer__ordinalencoder__categories', 'columntransformer__ordinalencoder__dtype', 'columntransformer__ordinalencoder__handle_unknown', 'columntransformer__ordinalencoder__unknown_value', 'gradientboostingregressor__alpha', 'gradientboostingregressor__ccp_alpha', 'gradientboostingregressor__criterion', 'gradientboostingregressor__init', 'gradientboostingregressor__learning_rate', 'gradientboostingregressor__loss', 'gradientboostingregressor__max_depth', 'gradientboostingregressor__max_features', 'gradientboostingregressor__max_leaf_nodes', 'gradientboostingregressor__min_impurity_decrease', 'gradientboostingregressor__min_samples_leaf', 'gradientboostingregressor__min_samples_split', 'gradientboostingregressor__min_weight_fraction_leaf', 'gradientboostingregressor__n_estimators', 'gradientboostingregressor__n_iter_no_change', 'gradientboostingregressor__random_state', 'gradientboostingregressor__subsample', 'gradientboostingregressor__tol', 'gradientboostingregressor__validation_fraction', 'gradientboostingregressor__verbose', 'gradientboostingregressor__warm_start'])"
      ]
     },
     "execution_count": 30,
     "metadata": {},
     "output_type": "execute_result"
    }
   ],
   "source": [
    "gbt_pipeline.get_params().keys()"
   ]
  },
  {
   "cell_type": "code",
   "execution_count": 31,
   "metadata": {},
   "outputs": [
    {
     "data": {
      "text/plain": [
       "dict_keys(['memory', 'steps', 'verbose', 'columntransformer', 'randomforestregressor', 'columntransformer__n_jobs', 'columntransformer__remainder', 'columntransformer__sparse_threshold', 'columntransformer__transformer_weights', 'columntransformer__transformers', 'columntransformer__verbose', 'columntransformer__verbose_feature_names_out', 'columntransformer__onehotencoder', 'columntransformer__ordinalencoder', 'columntransformer__onehotencoder__categories', 'columntransformer__onehotencoder__drop', 'columntransformer__onehotencoder__dtype', 'columntransformer__onehotencoder__handle_unknown', 'columntransformer__onehotencoder__sparse', 'columntransformer__ordinalencoder__categories', 'columntransformer__ordinalencoder__dtype', 'columntransformer__ordinalencoder__handle_unknown', 'columntransformer__ordinalencoder__unknown_value', 'randomforestregressor__bootstrap', 'randomforestregressor__ccp_alpha', 'randomforestregressor__criterion', 'randomforestregressor__max_depth', 'randomforestregressor__max_features', 'randomforestregressor__max_leaf_nodes', 'randomforestregressor__max_samples', 'randomforestregressor__min_impurity_decrease', 'randomforestregressor__min_samples_leaf', 'randomforestregressor__min_samples_split', 'randomforestregressor__min_weight_fraction_leaf', 'randomforestregressor__n_estimators', 'randomforestregressor__n_jobs', 'randomforestregressor__oob_score', 'randomforestregressor__random_state', 'randomforestregressor__verbose', 'randomforestregressor__warm_start'])"
      ]
     },
     "execution_count": 31,
     "metadata": {},
     "output_type": "execute_result"
    }
   ],
   "source": [
    "rf_pipeline.get_params().keys()"
   ]
  },
  {
   "cell_type": "code",
   "execution_count": 32,
   "metadata": {},
   "outputs": [
    {
     "data": {
      "text/plain": [
       "dict_keys(['memory', 'steps', 'verbose', 'columntransformer', 'kneighborsregressor', 'columntransformer__n_jobs', 'columntransformer__remainder', 'columntransformer__sparse_threshold', 'columntransformer__transformer_weights', 'columntransformer__transformers', 'columntransformer__verbose', 'columntransformer__verbose_feature_names_out', 'columntransformer__onehotencoder', 'columntransformer__ordinalencoder', 'columntransformer__onehotencoder__categories', 'columntransformer__onehotencoder__drop', 'columntransformer__onehotencoder__dtype', 'columntransformer__onehotencoder__handle_unknown', 'columntransformer__onehotencoder__sparse', 'columntransformer__ordinalencoder__categories', 'columntransformer__ordinalencoder__dtype', 'columntransformer__ordinalencoder__handle_unknown', 'columntransformer__ordinalencoder__unknown_value', 'kneighborsregressor__algorithm', 'kneighborsregressor__leaf_size', 'kneighborsregressor__metric', 'kneighborsregressor__metric_params', 'kneighborsregressor__n_jobs', 'kneighborsregressor__n_neighbors', 'kneighborsregressor__p', 'kneighborsregressor__weights'])"
      ]
     },
     "execution_count": 32,
     "metadata": {},
     "output_type": "execute_result"
    }
   ],
   "source": [
    "knn_pipeline.get_params().keys()"
   ]
  },
  {
   "cell_type": "code",
   "execution_count": 33,
   "metadata": {},
   "outputs": [
    {
     "data": {
      "text/plain": [
       "dict_keys(['memory', 'steps', 'verbose', 'columntransformer', 'normalizer', 'polynomialfeatures', 'linearregression', 'columntransformer__n_jobs', 'columntransformer__remainder', 'columntransformer__sparse_threshold', 'columntransformer__transformer_weights', 'columntransformer__transformers', 'columntransformer__verbose', 'columntransformer__verbose_feature_names_out', 'columntransformer__onehotencoder', 'columntransformer__ordinalencoder', 'columntransformer__onehotencoder__categories', 'columntransformer__onehotencoder__drop', 'columntransformer__onehotencoder__dtype', 'columntransformer__onehotencoder__handle_unknown', 'columntransformer__onehotencoder__sparse', 'columntransformer__ordinalencoder__categories', 'columntransformer__ordinalencoder__dtype', 'columntransformer__ordinalencoder__handle_unknown', 'columntransformer__ordinalencoder__unknown_value', 'normalizer__copy', 'normalizer__norm', 'polynomialfeatures__degree', 'polynomialfeatures__include_bias', 'polynomialfeatures__interaction_only', 'polynomialfeatures__order', 'linearregression__copy_X', 'linearregression__fit_intercept', 'linearregression__n_jobs', 'linearregression__normalize', 'linearregression__positive'])"
      ]
     },
     "execution_count": 33,
     "metadata": {},
     "output_type": "execute_result"
    }
   ],
   "source": [
    "poly_pipeline.get_params().keys()"
   ]
  },
  {
   "cell_type": "markdown",
   "metadata": {},
   "source": [
    "Setting the search grid for all pipelines"
   ]
  },
  {
   "cell_type": "code",
   "execution_count": 34,
   "metadata": {},
   "outputs": [],
   "source": [
    "n_estimators = [int(x) for x in np.linspace(start = 100, stop = 500, num = 5)]\n",
    "max_depth = [int(x) for x in np.linspace(5, 74, num = 10)]\n",
    "max_depth.append(None)\n",
    "min_samples_split = [5, 10, 16]\n",
    "min_samples_leaf = [2, 4, 7]\n",
    "learning_rate = [0.01, 0.1]\n",
    "\n",
    "gbt_random_grid = {'gradientboostingregressor__n_estimators': n_estimators,\n",
    "               'gradientboostingregressor__max_depth': max_depth,\n",
    "               'gradientboostingregressor__min_samples_split': min_samples_split,\n",
    "               'gradientboostingregressor__min_samples_leaf': min_samples_leaf,\n",
    "               'gradientboostingregressor__learning_rate': learning_rate}\n",
    "\n",
    "max_features = [40, 50, 60, 70]\n",
    "\n",
    "rf_random_grid = {'randomforestregressor__n_estimators': n_estimators,\n",
    "               'randomforestregressor__max_depth': max_depth,\n",
    "               'randomforestregressor__min_samples_split': min_samples_split,\n",
    "               'randomforestregressor__min_samples_leaf': min_samples_leaf,\n",
    "               'randomforestregressor__max_features': max_features}\n",
    "\n",
    "knn_random_grid = {\n",
    "  \"kneighborsregressor__n_neighbors\": [1, 3, 5, 7, 9, 11]\n",
    "}\n",
    "\n",
    "poly_random_grid = {\n",
    "  \"polynomialfeatures__degree\": [1]\n",
    "}\n"
   ]
  },
  {
   "cell_type": "code",
   "execution_count": 35,
   "metadata": {},
   "outputs": [],
   "source": [
    "def nested_cv(data, model, params, target, num_of_folds = 5, num_of_iters = 10, debug_messages = True, debug_param_messages = False):\n",
    "  best_model = None\n",
    "  best_score = 0\n",
    "  best_params = None\n",
    "  count = 1\n",
    "  X = data.drop(columns=[target])\n",
    "  y = data[target]\n",
    "\n",
    "  for train_index, test_index in KFold(n_splits=num_of_folds).split(data):\n",
    "    X_train, X_test = X.iloc[train_index], X.iloc[test_index]\n",
    "    y_train, y_test = y[train_index], y[test_index]\n",
    "\n",
    "    inner_best_model = RandomizedSearchCV(\n",
    "      estimator=model,\n",
    "      n_iter=num_of_iters,\n",
    "      param_distributions=params,\n",
    "      verbose=0,\n",
    "      cv = 5,\n",
    "      random_state=2002,\n",
    "      n_jobs=-1\n",
    "    )\n",
    "    inner_best_model.fit(X_train, y_train)\n",
    "\n",
    "    best_params = inner_best_model.best_params_\n",
    "    current_model = model.set_params(**best_params)\n",
    "    current_model.fit(X_train, y_train)\n",
    "    score = current_model.score(X_test, y_test)\n",
    "\n",
    "    if score > best_score:\n",
    "      best_score = score\n",
    "      best_params = best_params\n",
    "      best_model = inner_best_model.best_estimator_\n",
    "      \n",
    "    if(debug_messages):\n",
    "      print(f\"[Fold {count}/{num_of_folds}] Params {best_params} with score of {score}\")\n",
    "    count += 1\n",
    "\n",
    "  return {\n",
    "    \"best_model\": best_model,\n",
    "    \"best_score\": best_score,\n",
    "    \"best_params\": best_params\n",
    "  }"
   ]
  },
  {
   "cell_type": "code",
   "execution_count": 36,
   "metadata": {},
   "outputs": [],
   "source": [
    "pipelines = [(poly_pipeline, poly_random_grid), (gbt_pipeline, gbt_random_grid), (rf_pipeline, rf_random_grid), (knn_pipeline, knn_random_grid)]"
   ]
  },
  {
   "cell_type": "markdown",
   "metadata": {},
   "source": [
    "Applying nested CV to all pipelines and saving the best one"
   ]
  },
  {
   "cell_type": "code",
   "execution_count": 37,
   "metadata": {},
   "outputs": [
    {
     "name": "stderr",
     "output_type": "stream",
     "text": [
      "C:\\Users\\salah\\AppData\\Roaming\\Python\\Python310\\site-packages\\sklearn\\model_selection\\_search.py:292: UserWarning: The total space of parameters 1 is smaller than n_iter=5. Running 1 iterations. For exhaustive searches, use GridSearchCV.\n",
      "  warnings.warn(\n"
     ]
    },
    {
     "name": "stdout",
     "output_type": "stream",
     "text": [
      "[Fold 1/5] Params {'polynomialfeatures__degree': 1} with score of -64108098957202.62\n"
     ]
    },
    {
     "name": "stderr",
     "output_type": "stream",
     "text": [
      "C:\\Users\\salah\\AppData\\Roaming\\Python\\Python310\\site-packages\\sklearn\\model_selection\\_search.py:292: UserWarning: The total space of parameters 1 is smaller than n_iter=5. Running 1 iterations. For exhaustive searches, use GridSearchCV.\n",
      "  warnings.warn(\n"
     ]
    },
    {
     "name": "stdout",
     "output_type": "stream",
     "text": [
      "[Fold 2/5] Params {'polynomialfeatures__degree': 1} with score of -361189910700091.3\n"
     ]
    },
    {
     "name": "stderr",
     "output_type": "stream",
     "text": [
      "C:\\Users\\salah\\AppData\\Roaming\\Python\\Python310\\site-packages\\sklearn\\model_selection\\_search.py:292: UserWarning: The total space of parameters 1 is smaller than n_iter=5. Running 1 iterations. For exhaustive searches, use GridSearchCV.\n",
      "  warnings.warn(\n"
     ]
    },
    {
     "name": "stdout",
     "output_type": "stream",
     "text": [
      "[Fold 3/5] Params {'polynomialfeatures__degree': 1} with score of -411078667084631.44\n"
     ]
    },
    {
     "name": "stderr",
     "output_type": "stream",
     "text": [
      "C:\\Users\\salah\\AppData\\Roaming\\Python\\Python310\\site-packages\\sklearn\\model_selection\\_search.py:292: UserWarning: The total space of parameters 1 is smaller than n_iter=5. Running 1 iterations. For exhaustive searches, use GridSearchCV.\n",
      "  warnings.warn(\n"
     ]
    },
    {
     "name": "stdout",
     "output_type": "stream",
     "text": [
      "[Fold 4/5] Params {'polynomialfeatures__degree': 1} with score of -2.2262920636615212e+16\n"
     ]
    },
    {
     "name": "stderr",
     "output_type": "stream",
     "text": [
      "C:\\Users\\salah\\AppData\\Roaming\\Python\\Python310\\site-packages\\sklearn\\model_selection\\_search.py:292: UserWarning: The total space of parameters 1 is smaller than n_iter=5. Running 1 iterations. For exhaustive searches, use GridSearchCV.\n",
      "  warnings.warn(\n"
     ]
    },
    {
     "name": "stdout",
     "output_type": "stream",
     "text": [
      "[Fold 5/5] Params {'polynomialfeatures__degree': 1} with score of -3647274017052627.0\n",
      "[Fold 1/5] Params {'gradientboostingregressor__n_estimators': 500, 'gradientboostingregressor__min_samples_split': 16, 'gradientboostingregressor__min_samples_leaf': 2, 'gradientboostingregressor__max_depth': 58, 'gradientboostingregressor__learning_rate': 0.01} with score of 0.8680043000375807\n",
      "[Fold 2/5] Params {'gradientboostingregressor__n_estimators': 500, 'gradientboostingregressor__min_samples_split': 16, 'gradientboostingregressor__min_samples_leaf': 2, 'gradientboostingregressor__max_depth': 58, 'gradientboostingregressor__learning_rate': 0.01} with score of 0.8715327665682651\n",
      "[Fold 3/5] Params {'gradientboostingregressor__n_estimators': 500, 'gradientboostingregressor__min_samples_split': 16, 'gradientboostingregressor__min_samples_leaf': 2, 'gradientboostingregressor__max_depth': 58, 'gradientboostingregressor__learning_rate': 0.01} with score of 0.8712015327632391\n",
      "[Fold 4/5] Params {'gradientboostingregressor__n_estimators': 300, 'gradientboostingregressor__min_samples_split': 16, 'gradientboostingregressor__min_samples_leaf': 7, 'gradientboostingregressor__max_depth': 66, 'gradientboostingregressor__learning_rate': 0.01} with score of 0.8987141287117575\n",
      "[Fold 5/5] Params {'gradientboostingregressor__n_estimators': 500, 'gradientboostingregressor__min_samples_split': 16, 'gradientboostingregressor__min_samples_leaf': 2, 'gradientboostingregressor__max_depth': 58, 'gradientboostingregressor__learning_rate': 0.01} with score of 0.8467856419436779\n",
      "[Fold 1/5] Params {'randomforestregressor__n_estimators': 400, 'randomforestregressor__min_samples_split': 5, 'randomforestregressor__min_samples_leaf': 2, 'randomforestregressor__max_features': 60, 'randomforestregressor__max_depth': 58} with score of 0.8843233657536022\n",
      "[Fold 2/5] Params {'randomforestregressor__n_estimators': 400, 'randomforestregressor__min_samples_split': 5, 'randomforestregressor__min_samples_leaf': 2, 'randomforestregressor__max_features': 60, 'randomforestregressor__max_depth': 58} with score of 0.8672979338910304\n",
      "[Fold 3/5] Params {'randomforestregressor__n_estimators': 400, 'randomforestregressor__min_samples_split': 5, 'randomforestregressor__min_samples_leaf': 2, 'randomforestregressor__max_features': 60, 'randomforestregressor__max_depth': 58} with score of 0.8686678669031569\n",
      "[Fold 4/5] Params {'randomforestregressor__n_estimators': 400, 'randomforestregressor__min_samples_split': 5, 'randomforestregressor__min_samples_leaf': 2, 'randomforestregressor__max_features': 60, 'randomforestregressor__max_depth': 58} with score of 0.8926508612226601\n",
      "[Fold 5/5] Params {'randomforestregressor__n_estimators': 400, 'randomforestregressor__min_samples_split': 5, 'randomforestregressor__min_samples_leaf': 2, 'randomforestregressor__max_features': 60, 'randomforestregressor__max_depth': 58} with score of 0.8525207504586341\n",
      "[Fold 1/5] Params {'kneighborsregressor__n_neighbors': 5} with score of 0.6519370344928259\n",
      "[Fold 2/5] Params {'kneighborsregressor__n_neighbors': 5} with score of 0.6067657121696979\n",
      "[Fold 3/5] Params {'kneighborsregressor__n_neighbors': 5} with score of 0.6581907278592014\n",
      "[Fold 4/5] Params {'kneighborsregressor__n_neighbors': 5} with score of 0.6564376357424736\n",
      "[Fold 5/5] Params {'kneighborsregressor__n_neighbors': 5} with score of 0.5176882805454046\n"
     ]
    }
   ],
   "source": [
    "best_model = None\n",
    "for pipeline in pipelines:\n",
    "  current_pipeline = nested_cv(data, pipeline[0], pipeline[1], 'SalePrice', 5, 5, True, True)\n",
    "  if best_model == None or best_model[\"best_score\"] < current_pipeline[\"best_score\"]:\n",
    "    best_model = current_pipeline"
   ]
  },
  {
   "cell_type": "code",
   "execution_count": 38,
   "metadata": {},
   "outputs": [
    {
     "data": {
      "text/plain": [
       "0.8987141287117575"
      ]
     },
     "execution_count": 38,
     "metadata": {},
     "output_type": "execute_result"
    }
   ],
   "source": [
    "best_model[\"best_score\"]"
   ]
  },
  {
   "cell_type": "code",
   "execution_count": 39,
   "metadata": {},
   "outputs": [],
   "source": [
    "model = best_model[\"best_model\"]"
   ]
  },
  {
   "cell_type": "markdown",
   "metadata": {},
   "source": [
    "Retrain the best model on all the training data"
   ]
  },
  {
   "cell_type": "code",
   "execution_count": 40,
   "metadata": {},
   "outputs": [
    {
     "data": {
      "text/plain": [
       "Pipeline(steps=[('columntransformer',\n",
       "                 ColumnTransformer(remainder='passthrough',\n",
       "                                   transformers=[('onehotencoder',\n",
       "                                                  OneHotEncoder(categories=[['A',\n",
       "                                                                             'C '\n",
       "                                                                             '(all)',\n",
       "                                                                             'FV',\n",
       "                                                                             'I',\n",
       "                                                                             'RH',\n",
       "                                                                             'RL',\n",
       "                                                                             'RP',\n",
       "                                                                             'RM'],\n",
       "                                                                            ['Grvl',\n",
       "                                                                             'Pave'],\n",
       "                                                                            ['Grvl',\n",
       "                                                                             'Pave',\n",
       "                                                                             'None'],\n",
       "                                                                            ['AllPub',\n",
       "                                                                             'NoSewr',\n",
       "                                                                             'NoSeWa',\n",
       "                                                                             'ELO'],\n",
       "                                                                            ['Inside',\n",
       "                                                                             'Corner',\n",
       "                                                                             'CulDSac',\n",
       "                                                                             'FR2',\n",
       "                                                                             'FR3'],\n",
       "                                                                            ['Blmngtn',\n",
       "                                                                             'Blueste',\n",
       "                                                                             'BrDale',\n",
       "                                                                             'BrkSide',\n",
       "                                                                             'ClearCr',\n",
       "                                                                             'C...\n",
       "                                                   'BsmtCond', 'BsmtExposure',\n",
       "                                                   'BsmtFinType1',\n",
       "                                                   'BsmtFinType2', 'HeatingQC',\n",
       "                                                   'KitchenQual', 'Functional',\n",
       "                                                   'FireplaceQu',\n",
       "                                                   'GarageFinish', 'GarageQual',\n",
       "                                                   'GarageCond', 'PavedDrive',\n",
       "                                                   'PoolQC', 'Fence',\n",
       "                                                   'Electrical'])])),\n",
       "                ('gradientboostingregressor',\n",
       "                 GradientBoostingRegressor(learning_rate=0.01, max_depth=66,\n",
       "                                           min_samples_leaf=7,\n",
       "                                           min_samples_split=16,\n",
       "                                           n_estimators=300,\n",
       "                                           random_state=2002))])"
      ]
     },
     "execution_count": 40,
     "metadata": {},
     "output_type": "execute_result"
    }
   ],
   "source": [
    "model.fit(data.drop(columns=['SalePrice']), data['SalePrice'])"
   ]
  },
  {
   "cell_type": "markdown",
   "metadata": {},
   "source": [
    "Pickle the model"
   ]
  },
  {
   "cell_type": "code",
   "execution_count": 41,
   "metadata": {},
   "outputs": [],
   "source": [
    "import pickle\n",
    "\n",
    "pickle.dump(model, open('./pipeline.model', 'wb'))"
   ]
  }
 ],
 "metadata": {
  "interpreter": {
   "hash": "b89b5cfaba6639976dc87ff2fec6d58faec662063367e2c229c520fe71072417"
  },
  "kernelspec": {
   "display_name": "Python 3.10.0 64-bit",
   "language": "python",
   "name": "python3"
  },
  "language_info": {
   "codemirror_mode": {
    "name": "ipython",
    "version": 3
   },
   "file_extension": ".py",
   "mimetype": "text/x-python",
   "name": "python",
   "nbconvert_exporter": "python",
   "pygments_lexer": "ipython3",
   "version": "3.10.0"
  },
  "orig_nbformat": 4
 },
 "nbformat": 4,
 "nbformat_minor": 2
}
